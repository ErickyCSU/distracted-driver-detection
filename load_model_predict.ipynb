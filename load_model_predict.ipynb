{
 "cells": [
  {
   "cell_type": "code",
   "execution_count": 1,
   "metadata": {},
   "outputs": [
    {
     "name": "stderr",
     "output_type": "stream",
     "text": [
      "Using TensorFlow backend.\n"
     ]
    }
   ],
   "source": [
    "import os\n",
    "import pandas as pd\n",
    "from keras.models import *\n",
    "from keras.applications import *\n",
    "from keras.preprocessing.image import ImageDataGenerator"
   ]
  },
  {
   "cell_type": "code",
   "execution_count": 2,
   "metadata": {
    "collapsed": true
   },
   "outputs": [],
   "source": [
    "def construct_generator(preprocess_function, img_size):\n",
    "    batch_size = 32\n",
    "    valid_test_gen = ImageDataGenerator(preprocessing_function = preprocess_function)\n",
    "    test_data_generator = valid_test_gen.flow_from_directory('.\\\\imgs\\\\test',\n",
    "                                                              target_size=img_size,\n",
    "                                                              batch_size=batch_size,\n",
    "                                                              shuffle=False,\n",
    "                                                              class_mode=None)\n",
    "    return test_data_generator"
   ]
  },
  {
   "cell_type": "code",
   "execution_count": 3,
   "metadata": {},
   "outputs": [
    {
     "name": "stdout",
     "output_type": "stream",
     "text": [
      "['InceptionV3_0.32014.csv', 'InceptionV3_L96_0.31699.csv', 'InceptionV3_L96_0.317.csv']\n",
      "['InceptionV3_0.32014', 'InceptionV3_L96_0.31699', 'InceptionV3_L96_0.317']\n"
     ]
    }
   ],
   "source": [
    "# submition file\n",
    "if not os.path.exists('good_submission'):\n",
    "    os.mkdir('good_submission')\n",
    "file_names = os.listdir('good_submission')\n",
    "pure_file_name_set = []\n",
    "print(file_names)\n",
    "for file_name in file_names:\n",
    "    pure_file_name_set.append(file_name[:file_name.rfind('.')])\n",
    "print(pure_file_name_set)"
   ]
  },
  {
   "cell_type": "code",
   "execution_count": 4,
   "metadata": {},
   "outputs": [
    {
     "name": "stdout",
     "output_type": "stream",
     "text": [
      "ResNet50_0.35883.h5\n",
      "(240,)\n",
      "Found 79726 images belonging to 1 classes.\n",
      "2492/2492 [==============================] - 728s 292ms/step\n",
      "Xception_L20_0.28532.h\n",
      "(299,)\n",
      "Found 79726 images belonging to 1 classes.\n",
      "2492/2492 [==============================] - 979s 393ms/step\n",
      "Xception_L20_0.30757.h\n",
      "(299,)\n",
      "Found 79726 images belonging to 1 classes.\n",
      "2492/2492 [==============================] - 980s 393ms/step\n",
      "Xception_L96_0.32139.h\n",
      "(299,)\n",
      "Found 79726 images belonging to 1 classes.\n",
      "2492/2492 [==============================] - 982s 394ms/step\n"
     ]
    }
   ],
   "source": [
    "for model_name in os.listdir('good_models'):\n",
    "    pure_model_name = model_name[:model_name.rfind('.')]\n",
    "    \n",
    "    if pure_model_name not in pure_file_name_set:\n",
    "        # Load model\n",
    "        print(model_name)\n",
    "        model = load_model('good_models\\\\'+model_name)\n",
    "        if 'InceptionV3' in pure_model_name:\n",
    "            test_data_generator = construct_generator(inceptionv3.preprocess_input, model.input_shape[1:-1])\n",
    "        elif 'Xception' in pure_model_name:\n",
    "            test_data_generator = construct_generator(xception.preprocess_input, model.input_shape[1:-1])\n",
    "        elif 'ResNet50' in pure_model_name:\n",
    "            test_data_generator = construct_generator(resnet50.preprocess_input, model.input_shape[1:-1])\n",
    "        else:\n",
    "            print('Unknown model!')\n",
    "        # Predict\n",
    "        df = pd.read_csv(\"submit_example.csv\", index_col='img')\n",
    "        preds = model.predict_generator(test_data_generator, steps=len(test_data_generator), verbose=1)\n",
    "        for i, fname in enumerate(test_data_generator.filenames):\n",
    "            index = fname[fname.rfind('\\\\')+1:]\n",
    "            df.loc[index] = preds[i]\n",
    "\n",
    "        df.to_csv('good_submission/'+pure_model_name+'.csv', float_format='%.3f')\n"
   ]
  },
  {
   "cell_type": "code",
   "execution_count": 34,
   "metadata": {},
   "outputs": [
    {
     "name": "stdout",
     "output_type": "stream",
     "text": [
      "(2, 3)\n"
     ]
    }
   ],
   "source": [
    "a = (1,2,3,4)\n",
    "print(a[1:-1])"
   ]
  },
  {
   "cell_type": "code",
   "execution_count": null,
   "metadata": {
    "collapsed": true
   },
   "outputs": [],
   "source": []
  }
 ],
 "metadata": {
  "kernelspec": {
   "display_name": "Python 3",
   "language": "python",
   "name": "python3"
  },
  "language_info": {
   "codemirror_mode": {
    "name": "ipython",
    "version": 3
   },
   "file_extension": ".py",
   "mimetype": "text/x-python",
   "name": "python",
   "nbconvert_exporter": "python",
   "pygments_lexer": "ipython3",
   "version": "3.6.2"
  }
 },
 "nbformat": 4,
 "nbformat_minor": 2
}
