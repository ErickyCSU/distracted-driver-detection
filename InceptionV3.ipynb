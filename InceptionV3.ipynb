{
 "cells": [
  {
   "cell_type": "code",
   "execution_count": 60,
   "metadata": {},
   "outputs": [],
   "source": [
    "import pandas as pd\n",
    "import numpy as np\n",
    "\n",
    "from keras.layers import *\n",
    "from keras.models import *\n",
    "from keras.optimizers import *\n",
    "from keras.applications import *\n",
    "from keras.preprocessing.image import ImageDataGenerator"
   ]
  },
  {
   "cell_type": "code",
   "execution_count": 61,
   "metadata": {
    "collapsed": true
   },
   "outputs": [],
   "source": [
    "# Parameter setting\n",
    "np.random.seed(2018)\n",
    "model_name = 'InceptionV3'\n",
    "img_size = (299, 299)\n",
    "batch_size = 32\n",
    "freeze_layer_num = 96"
   ]
  },
  {
   "cell_type": "code",
   "execution_count": 62,
   "metadata": {},
   "outputs": [
    {
     "name": "stdout",
     "output_type": "stream",
     "text": [
      "Found 20071 images belonging to 10 classes.\n",
      "Found 2353 images belonging to 10 classes.\n",
      "Found 79726 images belonging to 1 classes.\n"
     ]
    }
   ],
   "source": [
    "# Data preparation\n",
    "train_generator = ImageDataGenerator(preprocessing_function = inception_v3.preprocess_input,\n",
    "                                        rotation_range=10*2,\n",
    "                                        width_shift_range=0.05*2,\n",
    "                                        height_shift_range=0.05*2,\n",
    "                                        shear_range=0.1*2,\n",
    "                                        zoom_range=0.1*2,)\n",
    "valid_test_gen = ImageDataGenerator(preprocessing_function = inception_v3.preprocess_input)\n",
    "\n",
    "train_data_generator = train_generator.flow_from_directory('.\\\\imgs\\\\new_train',\n",
    "                                                          target_size=img_size,\n",
    "                                                          batch_size=batch_size,\n",
    "                                                          shuffle=True,\n",
    "                                                          class_mode='categorical')\n",
    "valid_data_generator = valid_test_gen.flow_from_directory('.\\\\imgs\\\\new_valid',\n",
    "                                                          target_size=img_size,\n",
    "                                                          batch_size=batch_size,\n",
    "                                                          shuffle=True,\n",
    "                                                          class_mode='categorical')\n",
    "test_data_generator = valid_test_gen.flow_from_directory('.\\\\imgs\\\\test',\n",
    "                                                          target_size=img_size,\n",
    "                                                          batch_size=batch_size,\n",
    "                                                          shuffle=False,\n",
    "                                                          class_mode=None)"
   ]
  },
  {
   "cell_type": "code",
   "execution_count": 63,
   "metadata": {},
   "outputs": [
    {
     "name": "stdout",
     "output_type": "stream",
     "text": [
      "total layer count 311\n"
     ]
    }
   ],
   "source": [
    "# Construct model\n",
    "from keras import backend as K\n",
    "K.clear_session()\n",
    "\n",
    "inputs = Input((*img_size, 3))\n",
    "base_model = InceptionV3(input_tensor=inputs, weights='imagenet', include_top=False)\n",
    "x = GlobalAveragePooling2D()(base_model.output)\n",
    "x = Dropout(0.5)(x)\n",
    "x = Dense(10, activation='softmax')(x)\n",
    "model = Model(inputs, x)\n",
    "\n",
    "print(\"total layer count {}\".format(len(base_model.layers)))"
   ]
  },
  {
   "cell_type": "code",
   "execution_count": 64,
   "metadata": {},
   "outputs": [
    {
     "name": "stdout",
     "output_type": "stream",
     "text": [
      "Epoch 1/1\n",
      "126/125 [==============================] - 228s 2s/step - loss: 0.9663 - acc: 0.6811 - val_loss: 0.5336 - val_acc: 0.8232\n"
     ]
    },
    {
     "data": {
      "text/plain": [
       "<keras.callbacks.History at 0x2b20b58edd8>"
      ]
     },
     "execution_count": 64,
     "metadata": {},
     "output_type": "execute_result"
    }
   ],
   "source": [
    "# Train the FC layer\n",
    "base_model.trainabel = False\n",
    "model.compile(optimizer=Adam(lr=1e-4), loss='categorical_crossentropy', metrics=['accuracy'])\n",
    "model.fit_generator(train_data_generator,\n",
    "                    steps_per_epoch=len(train_data_generator)*0.2,\n",
    "                    epochs=1,\n",
    "                    validation_data=valid_data_generator,\n",
    "                    validation_steps=len(valid_data_generator))"
   ]
  },
  {
   "cell_type": "code",
   "execution_count": 65,
   "metadata": {},
   "outputs": [
    {
     "name": "stdout",
     "output_type": "stream",
     "text": [
      "Epoch 1/1\n",
      "628/628 [==============================] - 849s 1s/step - loss: 0.1018 - acc: 0.9699 - val_loss: 0.7018 - val_acc: 0.8610\n"
     ]
    }
   ],
   "source": [
    "# fine-tune the model\n",
    "for i, layer in enumerate(model.layers):\n",
    "    if i <= freeze_layer_num:\n",
    "        layer.trainable = False\n",
    "    else:\n",
    "        layer.trainable = True\n",
    "    \n",
    "model.compile(optimizer=RMSprop(lr=1e-4), loss='categorical_crossentropy', metrics=['accuracy'])\n",
    "history = model.fit_generator(train_data_generator, \n",
    "                    steps_per_epoch=len(train_data_generator),\n",
    "                    epochs=1,\n",
    "                    validation_data=valid_data_generator, \n",
    "                    validation_steps=len(valid_data_generator))"
   ]
  },
  {
   "cell_type": "code",
   "execution_count": 66,
   "metadata": {},
   "outputs": [
    {
     "name": "stdout",
     "output_type": "stream",
     "text": [
      "Epoch 1/1\n",
      "628/628 [==============================] - 666s 1s/step - loss: 0.0518 - acc: 0.9857 - val_loss: 0.4710 - val_acc: 0.8780\n"
     ]
    }
   ],
   "source": [
    "# Train model\n",
    "model.compile(optimizer=Adam(lr=1e-4), loss='categorical_crossentropy', metrics=['accuracy'])\n",
    "history = model.fit_generator(train_data_generator, \n",
    "                    steps_per_epoch=len(train_data_generator),\n",
    "                    epochs=1,\n",
    "                    validation_data=valid_data_generator, \n",
    "                    validation_steps=len(valid_data_generator))"
   ]
  },
  {
   "cell_type": "code",
   "execution_count": 73,
   "metadata": {},
   "outputs": [],
   "source": [
    "if not os.path.exists('.\\\\models'):\n",
    "    os.mkdir('.\\\\models')\n",
    "model.save('models\\\\'+model_name+'_L'+ str(freeze_layer_num)+'.h5')"
   ]
  },
  {
   "cell_type": "code",
   "execution_count": 77,
   "metadata": {},
   "outputs": [
    {
     "name": "stdout",
     "output_type": "stream",
     "text": [
      "Epoch 1/1\n",
      "126/125 [==============================] - 253s 2s/step - loss: 0.0184 - acc: 0.9953 - val_loss: 0.4373 - val_acc: 0.8963\n"
     ]
    }
   ],
   "source": [
    "# Train model\n",
    "model.compile(optimizer=Adam(lr=1e-5), loss='categorical_crossentropy', metrics=['accuracy'])\n",
    "history = model.fit_generator(train_data_generator, \n",
    "                    steps_per_epoch=len(train_data_generator)*0.2,\n",
    "                    epochs=1,\n",
    "                    validation_data=valid_data_generator, \n",
    "                    validation_steps=len(valid_data_generator))"
   ]
  },
  {
   "cell_type": "code",
   "execution_count": 78,
   "metadata": {},
   "outputs": [
    {
     "name": "stdout",
     "output_type": "stream",
     "text": [
      "2492/2492 [==============================] - 748s 300ms/step\n"
     ]
    }
   ],
   "source": [
    "# submition file\n",
    "#model = load_model('.\\\\models\\\\InceptionV3_L96_0.31699.h5')\n",
    "df = pd.read_csv(\"submit_example.csv\", index_col='img')\n",
    "preds = model.predict_generator(test_data_generator, steps=len(test_data_generator), verbose=1)\n",
    "for i, fname in enumerate(test_data_generator.filenames):\n",
    "    index = fname[fname.rfind('\\\\')+1:]\n",
    "    df.loc[index] = preds[i]\n",
    "\n",
    "df.to_csv('submission/'+model_name+'_L'+ str(freeze_layer_num)+'pred.csv', float_format='%.3f')"
   ]
  },
  {
   "cell_type": "code",
   "execution_count": null,
   "metadata": {
    "collapsed": true
   },
   "outputs": [],
   "source": []
  }
 ],
 "metadata": {
  "kernelspec": {
   "display_name": "Python 3",
   "language": "python",
   "name": "python3"
  },
  "language_info": {
   "codemirror_mode": {
    "name": "ipython",
    "version": 3
   },
   "file_extension": ".py",
   "mimetype": "text/x-python",
   "name": "python",
   "nbconvert_exporter": "python",
   "pygments_lexer": "ipython3",
   "version": "3.6.3"
  }
 },
 "nbformat": 4,
 "nbformat_minor": 2
}
