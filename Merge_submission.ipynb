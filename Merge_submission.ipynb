{
 "cells": [
  {
   "cell_type": "code",
   "execution_count": 55,
   "metadata": {
    "collapsed": true
   },
   "outputs": [],
   "source": [
    "import pandas as pd\n",
    "import numpy as np\n",
    "import os"
   ]
  },
  {
   "cell_type": "code",
   "execution_count": 56,
   "metadata": {},
   "outputs": [],
   "source": [
    "base_dir = \"C:\\\\Users\\ERIC\\Desktop\\graduate project\\\\good_submission\"\n",
    "weight = 2\n",
    "file_name_list = os.listdir(base_dir)"
   ]
  },
  {
   "cell_type": "code",
   "execution_count": 57,
   "metadata": {},
   "outputs": [],
   "source": [
    "df_value_list = []\n",
    "merge_file_count = 0\n",
    "for file_name in file_name_list:\n",
    "    file_path = os.path.join(base_dir, file_name)\n",
    "    sub_df = pd.read_csv(file_path, index_col = \"img\")\n",
    "    if 'merge' in file_name:\n",
    "        df_value_list.append(sub_df.values * weight)\n",
    "        merge_file_count += 1\n",
    "    else:\n",
    "        df_value_list.append(sub_df.values)"
   ]
  },
  {
   "cell_type": "code",
   "execution_count": 58,
   "metadata": {},
   "outputs": [
    {
     "name": "stdout",
     "output_type": "stream",
     "text": [
      "Merge completed!\n"
     ]
    }
   ],
   "source": [
    "df_value_list = np.asarray(df_value_list)\n",
    "\n",
    "sum_value = sum(df_value_list)/(len(file_name_list) + merge_file_count *(weight - 1))\n",
    "df_index = sub_df.index\n",
    "df_column = ['c'+str(i) for i in range(10)]\n",
    "final_df = pd.DataFrame(sum_value, index=df_index, columns=df_column)\n",
    "final_df.index.name = 'img'\n",
    "final_df.to_csv(\"submission/merge_pred.csv\", float_format=\"%.3f\")\n",
    "print('Merge completed!')"
   ]
  },
  {
   "cell_type": "code",
   "execution_count": null,
   "metadata": {
    "collapsed": true
   },
   "outputs": [],
   "source": []
  }
 ],
 "metadata": {
  "kernelspec": {
   "display_name": "Python 3",
   "language": "python",
   "name": "python3"
  },
  "language_info": {
   "codemirror_mode": {
    "name": "ipython",
    "version": 3
   },
   "file_extension": ".py",
   "mimetype": "text/x-python",
   "name": "python",
   "nbconvert_exporter": "python",
   "pygments_lexer": "ipython3",
   "version": "3.6.2"
  }
 },
 "nbformat": 4,
 "nbformat_minor": 2
}
