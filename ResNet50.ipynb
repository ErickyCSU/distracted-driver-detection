{
 "cells": [
  {
   "cell_type": "code",
   "execution_count": 51,
   "metadata": {
    "collapsed": true
   },
   "outputs": [],
   "source": [
    "import pandas as pd\n",
    "import numpy as np\n",
    "\n",
    "from keras.layers import *\n",
    "from keras.models import *\n",
    "from keras.optimizers import *\n",
    "from keras.applications import *\n",
    "from keras.preprocessing.image import ImageDataGenerator"
   ]
  },
  {
   "cell_type": "code",
   "execution_count": 52,
   "metadata": {
    "collapsed": true
   },
   "outputs": [],
   "source": [
    "# Parameter setting\n",
    "np.random.seed(2018)\n",
    "model_name = 'ResNet50'\n",
    "img_size = (224, 224)\n",
    "batch_size = 32\n",
    "freeze_layer_num = 77"
   ]
  },
  {
   "cell_type": "code",
   "execution_count": 53,
   "metadata": {},
   "outputs": [
    {
     "name": "stdout",
     "output_type": "stream",
     "text": [
      "Found 20271 images belonging to 10 classes.\n",
      "Found 2153 images belonging to 10 classes.\n",
      "Found 79726 images belonging to 1 classes.\n"
     ]
    }
   ],
   "source": [
    "# Data preparation\n",
    "train_generator = ImageDataGenerator(preprocessing_function = resnet50.preprocess_input,\n",
    "                                        rotation_range=15,\n",
    "                                        width_shift_range=0.1,\n",
    "                                        height_shift_range=0.1,\n",
    "                                        shear_range=0.15,\n",
    "                                        zoom_range=0.15)\n",
    "valid_test_gen = ImageDataGenerator(preprocessing_function = resnet50.preprocess_input)\n",
    "\n",
    "train_data_generator = train_generator.flow_from_directory('.\\\\imgs\\\\new_train',\n",
    "                                                          target_size=img_size,\n",
    "                                                          batch_size=batch_size,\n",
    "                                                          shuffle=True,\n",
    "                                                          class_mode='categorical')\n",
    "valid_data_generator = valid_test_gen.flow_from_directory('.\\\\imgs\\\\new_valid',\n",
    "                                                          target_size=img_size,\n",
    "                                                          batch_size=batch_size,\n",
    "                                                          shuffle=True,\n",
    "                                                          class_mode='categorical')\n",
    "test_data_generator = valid_test_gen.flow_from_directory('.\\\\imgs\\\\test',\n",
    "                                                          target_size=img_size,\n",
    "                                                          batch_size=batch_size,\n",
    "                                                          shuffle=False,\n",
    "                                                          class_mode=None)"
   ]
  },
  {
   "cell_type": "code",
   "execution_count": 54,
   "metadata": {},
   "outputs": [
    {
     "name": "stdout",
     "output_type": "stream",
     "text": [
      "total layer count 174\n"
     ]
    }
   ],
   "source": [
    "# Construct model\n",
    "from keras import backend as K\n",
    "K.clear_session()\n",
    "\n",
    "inputs = Input((*img_size, 3))\n",
    "base_model = ResNet50(input_tensor=inputs, weights='imagenet', include_top=False)\n",
    "x = GlobalAveragePooling2D()(base_model.output)\n",
    "x = Dropout(0.5)(x)\n",
    "x = Dense(10, activation='softmax')(x)\n",
    "model = Model(inputs, x)\n",
    "\n",
    "print(\"total layer count {}\".format(len(base_model.layers)))"
   ]
  },
  {
   "cell_type": "code",
   "execution_count": 55,
   "metadata": {},
   "outputs": [
    {
     "name": "stdout",
     "output_type": "stream",
     "text": [
      "Epoch 1/1\n",
      "127/126 [==============================] - 563s 4s/step - loss: 0.8556 - acc: 0.7219 - val_loss: 0.4081 - val_acc: 0.8709\n"
     ]
    },
    {
     "data": {
      "text/plain": [
       "<keras.callbacks.History at 0x196bcd5a128>"
      ]
     },
     "execution_count": 55,
     "metadata": {},
     "output_type": "execute_result"
    }
   ],
   "source": [
    "# Train the FC layer\n",
    "base_model.trainabel = False\n",
    "model.compile(optimizer=Adam(lr=1e-4), loss='categorical_crossentropy', metrics=['accuracy'])\n",
    "model.fit_generator(train_data_generator,\n",
    "                    steps_per_epoch=len(train_data_generator)*0.2,\n",
    "                    epochs=1,\n",
    "                    validation_data=valid_data_generator,\n",
    "                    validation_steps=len(valid_data_generator))"
   ]
  },
  {
   "cell_type": "code",
   "execution_count": 46,
   "metadata": {},
   "outputs": [
    {
     "name": "stdout",
     "output_type": "stream",
     "text": [
      "Epoch 1/1\n",
      "127/126 [==============================] - 116s 914ms/step - loss: 0.1985 - acc: 0.9427 - val_loss: 1.3846 - val_acc: 0.8699\n"
     ]
    }
   ],
   "source": [
    "# fine-tune the model\n",
    "for i, layer in enumerate(model.layers):\n",
    "    if i <= freeze_layer_num:\n",
    "        layer.trainable = False\n",
    "    else:\n",
    "        layer.trainable = True\n",
    "    \n",
    "model.compile(optimizer=RMSprop(lr=1e-4), loss='categorical_crossentropy', metrics=['accuracy'])\n",
    "history = model.fit_generator(train_data_generator, \n",
    "                    steps_per_epoch=len(train_data_generator)*0.2,\n",
    "                    epochs=1,\n",
    "                    validation_data=valid_data_generator, \n",
    "                    validation_steps=len(valid_data_generator))"
   ]
  },
  {
   "cell_type": "code",
   "execution_count": 47,
   "metadata": {},
   "outputs": [
    {
     "name": "stdout",
     "output_type": "stream",
     "text": [
      "Epoch 1/1\n",
      "127/126 [==============================] - 853s 7s/step - loss: 0.1188 - acc: 0.9619 - val_loss: 0.5261 - val_acc: 0.9015\n"
     ]
    }
   ],
   "source": [
    "# Train model\n",
    "model.compile(optimizer=Adam(lr=1e-4), loss='categorical_crossentropy', metrics=['accuracy'])\n",
    "history = model.fit_generator(train_data_generator, \n",
    "                    steps_per_epoch=len(train_data_generator)*0.2,\n",
    "                    epochs=1,\n",
    "                    validation_data=valid_data_generator, \n",
    "                    validation_steps=len(valid_data_generator))"
   ]
  },
  {
   "cell_type": "code",
   "execution_count": 48,
   "metadata": {},
   "outputs": [
    {
     "name": "stdout",
     "output_type": "stream",
     "text": [
      "Epoch 1/1\n",
      "127/126 [==============================] - 527s 4s/step - loss: 0.1091 - acc: 0.9739 - val_loss: 0.3333 - val_acc: 0.9187\n"
     ]
    }
   ],
   "source": [
    "# Train model\n",
    "model.compile(optimizer=Adam(lr=1e-4), loss='categorical_crossentropy', metrics=['accuracy'])\n",
    "history = model.fit_generator(train_data_generator, \n",
    "                    steps_per_epoch=len(train_data_generator)*0.2,\n",
    "                    epochs=1,\n",
    "                    validation_data=valid_data_generator, \n",
    "                    validation_steps=len(valid_data_generator))"
   ]
  },
  {
   "cell_type": "code",
   "execution_count": 24,
   "metadata": {
    "collapsed": true
   },
   "outputs": [],
   "source": [
    "if not os.path.exists('.\\\\models'):\n",
    "    os.mkdir('.\\\\models')\n",
    "model.save('models\\\\'+model_name+'_L'+ str(freeze_layer_num)+'.h5')"
   ]
  },
  {
   "cell_type": "code",
   "execution_count": 50,
   "metadata": {},
   "outputs": [
    {
     "name": "stdout",
     "output_type": "stream",
     "text": [
      "Epoch 1/1\n",
      "127/126 [==============================] - 186s 1s/step - loss: 0.0559 - acc: 0.9840 - val_loss: 0.3570 - val_acc: 0.9099\n"
     ]
    }
   ],
   "source": [
    "# Train model\n",
    "model.compile(optimizer=Adam(lr=1e-5), loss='categorical_crossentropy', metrics=['accuracy'])\n",
    "history = model.fit_generator(train_data_generator, \n",
    "                    steps_per_epoch=len(train_data_generator)*0.2,\n",
    "                    epochs=1,\n",
    "                    validation_data=valid_data_generator, \n",
    "                    validation_steps=len(valid_data_generator))"
   ]
  },
  {
   "cell_type": "code",
   "execution_count": 40,
   "metadata": {},
   "outputs": [
    {
     "name": "stdout",
     "output_type": "stream",
     "text": [
      "Epoch 1/1\n",
      "127/126 [==============================] - 169s 1s/step - loss: 0.0176 - acc: 0.9951 - val_loss: 0.5073 - val_acc: 0.8927\n"
     ]
    }
   ],
   "source": [
    "# Train model\n",
    "model.compile(optimizer=Adam(lr=1e-5), loss='categorical_crossentropy', metrics=['accuracy'])\n",
    "history = model.fit_generator(train_data_generator, \n",
    "                    steps_per_epoch=len(train_data_generator)*0.2,\n",
    "                    epochs=1,\n",
    "                    validation_data=valid_data_generator, \n",
    "                    validation_steps=len(valid_data_generator))"
   ]
  },
  {
   "cell_type": "code",
   "execution_count": 49,
   "metadata": {},
   "outputs": [
    {
     "name": "stdout",
     "output_type": "stream",
     "text": [
      "2492/2492 [==============================] - 3075s 1s/step\n"
     ]
    }
   ],
   "source": [
    "# submition file\n",
    "df = pd.read_csv(\"submit_example.csv\", index_col='img')\n",
    "preds = model.predict_generator(test_data_generator, steps=len(test_data_generator), verbose=1)\n",
    "for i, fname in enumerate(test_data_generator.filenames):\n",
    "    index = fname[fname.rfind('\\\\')+1:]\n",
    "    df.loc[index] = preds[i]\n",
    "\n",
    "df.to_csv('pred.csv', float_format='%.3f')"
   ]
  },
  {
   "cell_type": "code",
   "execution_count": null,
   "metadata": {
    "collapsed": true
   },
   "outputs": [],
   "source": []
  }
 ],
 "metadata": {
  "kernelspec": {
   "display_name": "Python 3",
   "language": "python",
   "name": "python3"
  },
  "language_info": {
   "codemirror_mode": {
    "name": "ipython",
    "version": 3
   },
   "file_extension": ".py",
   "mimetype": "text/x-python",
   "name": "python",
   "nbconvert_exporter": "python",
   "pygments_lexer": "ipython3",
   "version": "3.6.2"
  }
 },
 "nbformat": 4,
 "nbformat_minor": 2
}
