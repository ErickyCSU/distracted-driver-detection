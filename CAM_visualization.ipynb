{
 "cells": [
  {
   "cell_type": "code",
   "execution_count": 1,
   "metadata": {},
   "outputs": [
    {
     "name": "stderr",
     "output_type": "stream",
     "text": [
      "Using TensorFlow backend.\n"
     ]
    }
   ],
   "source": [
    "import os\n",
    "import cv2\n",
    "import glob\n",
    "import numpy as np\n",
    "import pandas as pd\n",
    "from keras.models import *\n",
    "from keras.preprocessing.image import ImageDataGenerator\n",
    "from keras.applications.xception import preprocess_input"
   ]
  },
  {
   "cell_type": "code",
   "execution_count": 2,
   "metadata": {
    "collapsed": true
   },
   "outputs": [],
   "source": [
    "# Set constant values\n",
    "np.random.seed(2018)\n",
    "model_name = \"Xception_L20_0.28532\"\n",
    "model_image_size = (299, 299)\n",
    "batch_size = 32\n",
    "final_layer = 134\n",
    "visual_layer = 131"
   ]
  },
  {
   "cell_type": "code",
   "execution_count": null,
   "metadata": {
    "collapsed": true
   },
   "outputs": [],
   "source": [
    "# Find the image to visualize\n",
    "def find_image(valid_label, right):\n",
    "    if right:\n",
    "        x = df['filename'][(df['y_valid'] == valid_label) & (df['y_pred'] == valid_label)]\n",
    "    else:\n",
    "        # x = df['filename'][(df['y_test']==true) &(df['y_pred']==pred)]\n",
    "        x1 = df[(df['y_valid'] == valid_label) & (df['y_pred'] != valid_label)]\n",
    "        x = x1['filename']\n",
    "    print(x)\n",
    "    if len(x):\n",
    "        x = x.sample(n=1).values[0]\n",
    "        return x\n",
    "    else:\n",
    "        return 0"
   ]
  },
  {
   "cell_type": "code",
   "execution_count": null,
   "metadata": {
    "collapsed": true
   },
   "outputs": [],
   "source": [
    "# Draw heatmap in the image\n",
    "def heatmap_image(model_show, weights_show, image_file):\n",
    "    status = [\"safe driving\", \" texting - right\", \"phone - right\", \"texting - left\", \"phone - left\",\n",
    "              \"operation radio\", \"drinking\", \"reaching behind\", \"hair and makeup\", \"talking\"]\n",
    "    img = cv2.imread('.\\\\imgs\\\\new_valid\\\\' + image_file)\n",
    "    img = cv2.resize(img, (model_image_size[1], model_image_size[0]))\n",
    "    img_in = img.copy().astype(np.float32)\n",
    "    img_in = preprocess_input(img_in)\n",
    "    out, predictions = model_show.predict_on_batch(np.expand_dims(img_in, axis=0))\n",
    "    predictions = predictions[0]\n",
    "    out = out[0]\n",
    "\n",
    "    pred_idx = np.argmax(predictions)\n",
    "    pred = status[pred_idx]\n",
    "    prediction = predictions[pred_idx]\n",
    "\n",
    "    val_idx = int(image_file[image_file.rfind('\\\\') - 1])\n",
    "    val = status[val_idx]\n",
    "\n",
    "    cam = prediction * np.matmul(out, weights_show)\n",
    "    cam = cam[:, :, pred_idx]\n",
    "    cam -= cam.min()\n",
    "    cam /= cam.max()\n",
    "\n",
    "    cam = cv2.resize(cam, (model_image_size[1], model_image_size[0]))\n",
    "    heatmap = cv2.applyColorMap(np.uint8(255 * cam), cv2.COLORMAP_JET)\n",
    "    heatmap[np.where(cam <= 0.2)] = 0\n",
    "\n",
    "    out = cv2.addWeighted(img, 0.8, heatmap, 0.4, 0)\n",
    "    return out[:, :, ::-1], pred, val, prediction"
   ]
  },
  {
   "cell_type": "code",
   "execution_count": 3,
   "metadata": {},
   "outputs": [
    {
     "name": "stdout",
     "output_type": "stream",
     "text": [
      "Found 2153 images belonging to 10 classes.\n"
     ]
    }
   ],
   "source": [
    "# Data generator\n",
    "gen = ImageDataGenerator(preprocessing_function=preprocess_input)\n",
    "\n",
    "valid_generator = gen.flow_from_directory('.\\\\imgs\\\\new_valid',  \n",
    "                                          target_size=model_image_size,\n",
    "                                          shuffle=False, \n",
    "                                          batch_size=batch_size, \n",
    "                                          class_mode=\"categorical\")"
   ]
  },
  {
   "cell_type": "code",
   "execution_count": 4,
   "metadata": {
    "collapsed": true
   },
   "outputs": [],
   "source": [
    "# Load model\n",
    "model = load_model('.\\\\models\\\\'+model_name+'.h')"
   ]
  },
  {
   "cell_type": "code",
   "execution_count": 5,
   "metadata": {
    "collapsed": true
   },
   "outputs": [],
   "source": [
    "# Make prediction with the model\n",
    "predict = []\n",
    "y = []\n",
    "i=0\n",
    "for x_valid, y_valid in valid_generator:\n",
    "    predict_batch = model.predict_on_batch(x_valid)\n",
    "    predict.extend(predict_batch)\n",
    "    y.extend(y_valid)\n",
    "    i += 1\n",
    "    if i== len(valid_generator):\n",
    "        break\n",
    "y = np.array(y, dtype = float)\n",
    "predict = np.array(predict, dtype = float)"
   ]
  },
  {
   "cell_type": "code",
   "execution_count": 10,
   "metadata": {
    "collapsed": true
   },
   "outputs": [],
   "source": [
    "# Classify the right and wrong predictions\n",
    "fname = valid_generator.filenames\n",
    "y_ture = np.where(y > 0)[1]\n",
    "y_pred = np.argmax(predict, axis=1)\n",
    "\n",
    "\n",
    "d = {'filename':pd.Series(fname),\n",
    "     'y_valid':pd.Series(y_ture),\n",
    "     'y_pred':pd.Series(y_pred)}\n",
    "\n",
    "df = pd.DataFrame(d)\n",
    "df.head()"
   ]
  },
  {
   "cell_type": "code",
   "execution_count": 11,
   "metadata": {},
   "outputs": [
    {
     "data": {
      "text/html": [
       "<div>\n",
       "<style>\n",
       "    .dataframe thead tr:only-child th {\n",
       "        text-align: right;\n",
       "    }\n",
       "\n",
       "    .dataframe thead th {\n",
       "        text-align: left;\n",
       "    }\n",
       "\n",
       "    .dataframe tbody tr th {\n",
       "        vertical-align: top;\n",
       "    }\n",
       "</style>\n",
       "<table border=\"1\" class=\"dataframe\">\n",
       "  <thead>\n",
       "    <tr style=\"text-align: right;\">\n",
       "      <th></th>\n",
       "      <th>filename</th>\n",
       "      <th>y_pred</th>\n",
       "      <th>y_test</th>\n",
       "    </tr>\n",
       "  </thead>\n",
       "  <tbody>\n",
       "    <tr>\n",
       "      <th>2148</th>\n",
       "      <td>c9\\img_9877.jpg</td>\n",
       "      <td>0</td>\n",
       "      <td>9</td>\n",
       "    </tr>\n",
       "    <tr>\n",
       "      <th>2149</th>\n",
       "      <td>c9\\img_99104.jpg</td>\n",
       "      <td>9</td>\n",
       "      <td>9</td>\n",
       "    </tr>\n",
       "    <tr>\n",
       "      <th>2150</th>\n",
       "      <td>c9\\img_993.jpg</td>\n",
       "      <td>0</td>\n",
       "      <td>9</td>\n",
       "    </tr>\n",
       "    <tr>\n",
       "      <th>2151</th>\n",
       "      <td>c9\\img_99569.jpg</td>\n",
       "      <td>9</td>\n",
       "      <td>9</td>\n",
       "    </tr>\n",
       "    <tr>\n",
       "      <th>2152</th>\n",
       "      <td>c9\\img_99949.jpg</td>\n",
       "      <td>9</td>\n",
       "      <td>9</td>\n",
       "    </tr>\n",
       "  </tbody>\n",
       "</table>\n",
       "</div>"
      ],
      "text/plain": [
       "              filename  y_pred  y_test\n",
       "2148   c9\\img_9877.jpg       0       9\n",
       "2149  c9\\img_99104.jpg       9       9\n",
       "2150    c9\\img_993.jpg       0       9\n",
       "2151  c9\\img_99569.jpg       9       9\n",
       "2152  c9\\img_99949.jpg       9       9"
      ]
     },
     "execution_count": 11,
     "metadata": {},
     "output_type": "execute_result"
    }
   ],
   "source": [
    "# Construct model2 for visualization\n",
    "weights = model.layers[final_layer].get_weights()[0]\n",
    "layer_output = model.layers[visual_layer].output\n",
    "model2 = Model(model.input, [layer_output, model.output])"
   ]
  },
  {
   "cell_type": "code",
   "execution_count": 14,
   "metadata": {
    "collapsed": true
   },
   "outputs": [],
   "source": [
    "# Draw heatmap for each class, and save\n",
    "for status_num in range(10):\n",
    "    for flag in [0,1]:\n",
    "        x = find_image(status_num, flag)\n",
    "        if x:\n",
    "            img_heatmap, val, pred, prediction = heatmap_image(model2, weights, image_file=x)\n",
    "            plt.figure()\n",
    "            plt.title('Valid: %s | Pred: %s %.2f%%' %(val, pred, prediction * 100))\n",
    "            plt.axis('off')\n",
    "            plt.imshow(img_heatmap)\n",
    "            #plt.show()\n",
    "            plt.savefig('.\\\\visualization\\\\status'+str(status_num)+ '_'+str(flag)+'.png')\n"
   ]
  },
  {
   "cell_type": "code",
   "execution_count": null,
   "metadata": {
    "collapsed": true
   },
   "outputs": [],
   "source": []
  }
 ],
 "metadata": {
  "kernelspec": {
   "display_name": "Python 3",
   "language": "python",
   "name": "python3"
  },
  "language_info": {
   "codemirror_mode": {
    "name": "ipython",
    "version": 3
   },
   "file_extension": ".py",
   "mimetype": "text/x-python",
   "name": "python",
   "nbconvert_exporter": "python",
   "pygments_lexer": "ipython3",
   "version": "3.6.2"
  }
 },
 "nbformat": 4,
 "nbformat_minor": 2
}
