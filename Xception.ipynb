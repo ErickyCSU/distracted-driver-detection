{
 "cells": [
  {
   "cell_type": "code",
   "execution_count": 92,
   "metadata": {},
   "outputs": [],
   "source": [
    "import pandas as pd\n",
    "import numpy as np\n",
    "\n",
    "from keras.layers import *\n",
    "from keras.models import *\n",
    "from keras.optimizers import *\n",
    "from keras.applications import *\n",
    "from keras.preprocessing.image import ImageDataGenerator"
   ]
  },
  {
   "cell_type": "code",
   "execution_count": 93,
   "metadata": {
    "collapsed": true
   },
   "outputs": [],
   "source": [
    "# Parameter setting\n",
    "np.random.seed(2018)\n",
    "model_name = 'Xception'\n",
    "img_size = (299, 299)\n",
    "batch_size = 16\n",
    "freeze_layer_num = 20"
   ]
  },
  {
   "cell_type": "code",
   "execution_count": 94,
   "metadata": {},
   "outputs": [
    {
     "name": "stdout",
     "output_type": "stream",
     "text": [
      "Found 20271 images belonging to 10 classes.\n",
      "Found 2153 images belonging to 10 classes.\n",
      "Found 79726 images belonging to 1 classes.\n"
     ]
    }
   ],
   "source": [
    "# Data preparation\n",
    "train_generator = ImageDataGenerator(preprocessing_function = xception.preprocess_input,\n",
    "                                        rotation_range=10*2,\n",
    "                                        width_shift_range=0.05*2,\n",
    "                                        height_shift_range=0.05*2,\n",
    "                                        shear_range=0.1*2,\n",
    "                                        zoom_range=0.1*2,)\n",
    "valid_test_gen = ImageDataGenerator(preprocessing_function = xception.preprocess_input)\n",
    "\n",
    "train_data_generator = train_generator.flow_from_directory('.\\\\imgs\\\\new_train',\n",
    "                                                          target_size=img_size,\n",
    "                                                          batch_size=batch_size,\n",
    "                                                          shuffle=True,\n",
    "                                                          class_mode='categorical')\n",
    "valid_data_generator = valid_test_gen.flow_from_directory('.\\\\imgs\\\\new_valid',\n",
    "                                                          target_size=img_size,\n",
    "                                                          batch_size=batch_size,\n",
    "                                                          shuffle=True,\n",
    "                                                          class_mode='categorical')\n",
    "test_data_generator = valid_test_gen.flow_from_directory('.\\\\imgs\\\\test',\n",
    "                                                          target_size=img_size,\n",
    "                                                          batch_size=batch_size,\n",
    "                                                          shuffle=False,\n",
    "                                                          class_mode=None)"
   ]
  },
  {
   "cell_type": "code",
   "execution_count": 95,
   "metadata": {},
   "outputs": [
    {
     "name": "stdout",
     "output_type": "stream",
     "text": [
      "total layer count 132\n"
     ]
    }
   ],
   "source": [
    "# Construct model\n",
    "from keras import backend as K\n",
    "K.clear_session()\n",
    "\n",
    "inputs = Input((*img_size, 3))\n",
    "base_model = Xception(input_tensor=inputs, weights='imagenet', include_top=False)\n",
    "x = GlobalAveragePooling2D()(base_model.output)\n",
    "x = Dropout(0.5)(x)\n",
    "x = Dense(10, activation='softmax')(x)\n",
    "model = Model(inputs, x)\n",
    "\n",
    "print(\"total layer count {}\".format(len(base_model.layers)))"
   ]
  },
  {
   "cell_type": "code",
   "execution_count": 96,
   "metadata": {},
   "outputs": [
    {
     "name": "stdout",
     "output_type": "stream",
     "text": [
      "Epoch 1/1\n",
      "254/253 [==============================] - 189s 743ms/step - loss: 0.9014 - acc: 0.7210 - val_loss: 0.3518 - val_acc: 0.8927\n"
     ]
    },
    {
     "data": {
      "text/plain": [
       "<keras.callbacks.History at 0x1aa60401898>"
      ]
     },
     "execution_count": 96,
     "metadata": {},
     "output_type": "execute_result"
    }
   ],
   "source": [
    "# Train the FC layer\n",
    "base_model.trainabel = False\n",
    "model.compile(optimizer=Adam(lr=1e-4), loss='categorical_crossentropy', metrics=['accuracy'])\n",
    "model.fit_generator(train_data_generator,\n",
    "                    steps_per_epoch=len(train_data_generator)*0.2,\n",
    "                    epochs=1,\n",
    "                    validation_data=valid_data_generator,\n",
    "                    validation_steps=len(valid_data_generator))"
   ]
  },
  {
   "cell_type": "code",
   "execution_count": 97,
   "metadata": {},
   "outputs": [
    {
     "name": "stdout",
     "output_type": "stream",
     "text": [
      "Epoch 1/1\n",
      "254/253 [==============================] - 157s 617ms/step - loss: 0.1360 - acc: 0.9606 - val_loss: 0.3761 - val_acc: 0.9048\n"
     ]
    }
   ],
   "source": [
    "# fine-tune the model\n",
    "for i, layer in enumerate(model.layers):\n",
    "    if i <= freeze_layer_num:\n",
    "        layer.trainable = False\n",
    "    else:\n",
    "        layer.trainable = True\n",
    "    \n",
    "model.compile(optimizer=RMSprop(lr=1e-4), loss='categorical_crossentropy', metrics=['accuracy'])\n",
    "history = model.fit_generator(train_data_generator, \n",
    "                    steps_per_epoch=len(train_data_generator)*0.2,\n",
    "                    epochs=1,\n",
    "                    validation_data=valid_data_generator, \n",
    "                    validation_steps=len(valid_data_generator))"
   ]
  },
  {
   "cell_type": "code",
   "execution_count": 99,
   "metadata": {},
   "outputs": [
    {
     "name": "stdout",
     "output_type": "stream",
     "text": [
      "Epoch 1/1\n",
      "1267/1267 [==============================] - 959s 757ms/step - loss: 0.0661 - acc: 0.9810 - val_loss: 0.2020 - val_acc: 0.9340\n"
     ]
    }
   ],
   "source": [
    "# Train model\n",
    "model.compile(optimizer=Adam(lr=1e-4), loss='categorical_crossentropy', metrics=['accuracy'])\n",
    "history = model.fit_generator(train_data_generator, \n",
    "                    steps_per_epoch=len(train_data_generator),\n",
    "                    epochs=1,\n",
    "                    validation_data=valid_data_generator, \n",
    "                    validation_steps=len(valid_data_generator))"
   ]
  },
  {
   "cell_type": "code",
   "execution_count": 101,
   "metadata": {},
   "outputs": [],
   "source": [
    "if not os.path.exists('.\\\\models'):\n",
    "    os.mkdir('.\\\\models')\n",
    "model.save('models/'+model_name+'_L'+ str(freeze_layer_num)+'.h')"
   ]
  },
  {
   "cell_type": "code",
   "execution_count": 102,
   "metadata": {},
   "outputs": [
    {
     "name": "stdout",
     "output_type": "stream",
     "text": [
      "Epoch 1/1\n",
      "254/253 [==============================] - 160s 630ms/step - loss: 0.0253 - acc: 0.9934 - val_loss: 0.2349 - val_acc: 0.9378\n"
     ]
    }
   ],
   "source": [
    "# Train model\n",
    "model.compile(optimizer=Adam(lr=1e-5), loss='categorical_crossentropy', metrics=['accuracy'])\n",
    "history = model.fit_generator(train_data_generator, \n",
    "                    steps_per_epoch=len(train_data_generator)*0.2,\n",
    "                    epochs=1,\n",
    "                    validation_data=valid_data_generator, \n",
    "                    validation_steps=len(valid_data_generator))"
   ]
  },
  {
   "cell_type": "code",
   "execution_count": 103,
   "metadata": {},
   "outputs": [
    {
     "name": "stdout",
     "output_type": "stream",
     "text": [
      "4983/4983 [==============================] - 1019s 205ms/step\n"
     ]
    }
   ],
   "source": [
    "# submition file\n",
    "#model = load_model('models/'+model_name+'_L'+ str(freeze_layer_num)+'.h')\n",
    "df = pd.read_csv(\"submit_example.csv\", index_col='img')\n",
    "preds = model.predict_generator(test_data_generator, steps=len(test_data_generator), verbose=1)\n",
    "for i, fname in enumerate(test_data_generator.filenames):\n",
    "    index = fname[fname.rfind('\\\\')+1:]\n",
    "    df.loc[index] = preds[i]\n",
    "\n",
    "df.to_csv('submission/'+model_name+'_L'+ str(freeze_layer_num)+'pred.csv', float_format='%.3f')"
   ]
  },
  {
   "cell_type": "code",
   "execution_count": null,
   "metadata": {
    "collapsed": true
   },
   "outputs": [],
   "source": []
  }
 ],
 "metadata": {
  "kernelspec": {
   "display_name": "Python 3",
   "language": "python",
   "name": "python3"
  },
  "language_info": {
   "codemirror_mode": {
    "name": "ipython",
    "version": 3
   },
   "file_extension": ".py",
   "mimetype": "text/x-python",
   "name": "python",
   "nbconvert_exporter": "python",
   "pygments_lexer": "ipython3",
   "version": "3.6.2"
  }
 },
 "nbformat": 4,
 "nbformat_minor": 2
}
