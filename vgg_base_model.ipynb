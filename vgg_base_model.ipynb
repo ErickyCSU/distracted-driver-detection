{
 "cells": [
  {
   "cell_type": "code",
   "execution_count": 1,
   "metadata": {},
   "outputs": [
    {
     "name": "stderr",
     "output_type": "stream",
     "text": [
      "Using TensorFlow backend.\n"
     ]
    }
   ],
   "source": [
    "import pandas as pd\n",
    "import numpy as np\n",
    "import matplotlib.pyplot as plt\n",
    "\n",
    "from keras.layers import *\n",
    "from keras.models import *\n",
    "from keras.optimizers import *\n",
    "from keras.applications import *\n",
    "from keras.preprocessing.image import ImageDataGenerator\n",
    "from keras.callbacks import ModelCheckpoint"
   ]
  },
  {
   "cell_type": "code",
   "execution_count": 2,
   "metadata": {
    "collapsed": true
   },
   "outputs": [],
   "source": [
    "# Parameter setting\n",
    "np.random.seed(2018)\n",
    "model_name = 'Vgg16'\n",
    "img_size = (224, 224)\n",
    "batch_size = 32"
   ]
  },
  {
   "cell_type": "code",
   "execution_count": 3,
   "metadata": {},
   "outputs": [
    {
     "name": "stdout",
     "output_type": "stream",
     "text": [
      "Found 19972 images belonging to 10 classes.\n",
      "Found 2452 images belonging to 10 classes.\n",
      "Found 79726 images belonging to 1 classes.\n"
     ]
    }
   ],
   "source": [
    "# Data preparation\n",
    "generator = ImageDataGenerator(preprocessing_function = vgg16.preprocess_input)\n",
    "\n",
    "train_data_generator = generator.flow_from_directory('.\\\\imgs\\\\new_train',\n",
    "                                                      target_size=img_size,\n",
    "                                                      batch_size=batch_size,\n",
    "                                                      shuffle=True,\n",
    "                                                      class_mode='categorical')\n",
    "valid_data_generator = generator.flow_from_directory('.\\\\imgs\\\\new_valid',\n",
    "                                                      target_size=img_size,\n",
    "                                                      batch_size=batch_size,\n",
    "                                                      shuffle=True,\n",
    "                                                      class_mode='categorical')\n",
    "test_data_generator = generator.flow_from_directory('.\\\\imgs\\\\test',\n",
    "                                                      target_size=img_size,\n",
    "                                                      batch_size=batch_size,\n",
    "                                                      shuffle=False,\n",
    "                                                      class_mode=None)"
   ]
  },
  {
   "cell_type": "code",
   "execution_count": 4,
   "metadata": {},
   "outputs": [
    {
     "name": "stdout",
     "output_type": "stream",
     "text": [
      "total layer count 19\n"
     ]
    }
   ],
   "source": [
    "# Construct model\n",
    "from keras import backend as K\n",
    "K.clear_session()\n",
    "\n",
    "inputs = Input((*img_size, 3))\n",
    "base_model = VGG16(input_tensor=inputs, weights='imagenet', include_top=False)\n",
    "x = GlobalAveragePooling2D()(base_model.output)\n",
    "#x = Dropout(0.5)(x)\n",
    "x = Dense(10, activation='softmax')(x)\n",
    "model = Model(inputs, x)\n",
    "\n",
    "print(\"total layer count {}\".format(len(base_model.layers)))"
   ]
  },
  {
   "cell_type": "code",
   "execution_count": 5,
   "metadata": {},
   "outputs": [
    {
     "name": "stdout",
     "output_type": "stream",
     "text": [
      "Epoch 1/5\n",
      "625/625 [==============================] - 424s 678ms/step - loss: 0.3619 - acc: 0.8984 - val_loss: 1.9877 - val_acc: 0.5632\n",
      "Epoch 2/5\n",
      "625/625 [==============================] - 372s 595ms/step - loss: 0.0239 - acc: 0.9932 - val_loss: 1.2206 - val_acc: 0.6464\n",
      "Epoch 3/5\n",
      "625/625 [==============================] - 372s 594ms/step - loss: 0.0110 - acc: 0.9973 - val_loss: 1.1384 - val_acc: 0.7202\n",
      "Epoch 4/5\n",
      "625/625 [==============================] - 371s 593ms/step - loss: 0.0062 - acc: 0.9986 - val_loss: 0.8239 - val_acc: 0.8030\n",
      "Epoch 5/5\n",
      "625/625 [==============================] - 370s 592ms/step - loss: 0.0044 - acc: 0.9985 - val_loss: 1.2647 - val_acc: 0.7520\n"
     ]
    }
   ],
   "source": [
    "base_model.trainable = False\n",
    "check_point = ModelCheckpoint(filepath='models//'+model_name+'base_model'+'.h', save_best_only=True)\n",
    "    \n",
    "model.compile(optimizer=RMSprop(lr=1e-5), loss='categorical_crossentropy', metrics=['accuracy'])\n",
    "history = model.fit_generator(train_data_generator, \n",
    "                    steps_per_epoch=len(train_data_generator),\n",
    "                    epochs=5,\n",
    "                    validation_data=valid_data_generator, \n",
    "                    validation_steps=len(valid_data_generator),\n",
    "                    callbacks=[check_point])"
   ]
  },
  {
   "cell_type": "code",
   "execution_count": 6,
   "metadata": {},
   "outputs": [
    {
     "data": {
      "image/png": "[encoded data removed]",
      "text/plain": [
       "<matplotlib.figure.Figure at 0x26777f24748>"
      ]
     },
     "metadata": {},
     "output_type": "display_data"
    },
    {
     "data": {
      "image/png": "[encoded data removed]",
      "text/plain": [
       "<matplotlib.figure.Figure at 0x26778179ac8>"
      ]
     },
     "metadata": {},
     "output_type": "display_data"
    }
   ],
   "source": [
    "# Plot loss and accuracy of train set and validation set\n",
    "acc = history.history['acc']\n",
    "val_acc = history.history['val_acc']\n",
    "loss = history.history['loss']\n",
    "val_loss = history.history['val_loss']\n",
    "\n",
    "\n",
    "epochs = range(1, len(acc) + 1)\n",
    "\n",
    "plt.plot(epochs, acc, 'b', label='Training acc')\n",
    "plt.plot(epochs, val_acc, 'r', label='Validation acc')\n",
    "plt.title('Training and validation accuracy')\n",
    "plt.legend()\n",
    "plt.savefig('C:\\\\Users\\ERIC\\Desktop\\graduate project\\\\visualization\\\\vgg_acc_pic.jpg')\n",
    "\n",
    "plt.figure()\n",
    "plt.plot(epochs, loss, 'b', label='Training loss')\n",
    "plt.plot(epochs, val_loss, 'r', label='Validation loss')\n",
    "plt.title('Training and validation loss')\n",
    "plt.legend()\n",
    "plt.savefig('C:\\\\Users\\ERIC\\Desktop\\graduate project\\\\visualization\\\\vgg_loss_pic.jpg')\n",
    "plt.show()"
   ]
  },
  {
   "cell_type": "code",
   "execution_count": null,
   "metadata": {
    "collapsed": true
   },
   "outputs": [],
   "source": []
  },
  {
   "cell_type": "code",
   "execution_count": 7,
   "metadata": {},
   "outputs": [
    {
     "name": "stdout",
     "output_type": "stream",
     "text": [
      "2492/2492 [==============================] - 555s 223ms/step\n"
     ]
    }
   ],
   "source": [
    "# submition file\n",
    "model = load_model('models//'+model_name+'base_model'+'.h')\n",
    "df = pd.read_csv(\"submit_example.csv\", index_col='img')\n",
    "preds = model.predict_generator(test_data_generator, steps=len(test_data_generator), verbose=1)\n",
    "for i, fname in enumerate(test_data_generator.filenames):\n",
    "    index = fname[fname.rfind('\\\\')+1:]\n",
    "    df.loc[index] = preds[i]\n",
    "\n",
    "if not os.path.exists('submission'):\n",
    "    os.mkdir('submission')\n",
    "\n",
    "df.to_csv('submission\\\\'+model_name+'base_model'+'.csv', float_format='%.3f')"
   ]
  },
  {
   "cell_type": "code",
   "execution_count": null,
   "metadata": {
    "collapsed": true
   },
   "outputs": [],
   "source": []
  }
 ],
 "metadata": {
  "kernelspec": {
   "display_name": "Python 3",
   "language": "python",
   "name": "python3"
  },
  "language_info": {
   "codemirror_mode": {
    "name": "ipython",
    "version": 3
   },
   "file_extension": ".py",
   "mimetype": "text/x-python",
   "name": "python",
   "nbconvert_exporter": "python",
   "pygments_lexer": "ipython3",
   "version": "3.6.2"
  }
 },
 "nbformat": 4,
 "nbformat_minor": 2
}
